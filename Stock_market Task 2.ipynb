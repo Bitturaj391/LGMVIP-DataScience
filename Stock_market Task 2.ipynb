{
 "cells": [
  {
   "cell_type": "markdown",
   "id": "e7a3782f",
   "metadata": {},
   "source": [
    "Task 2"
   ]
  },
  {
   "cell_type": "markdown",
   "id": "faef6410",
   "metadata": {},
   "source": [
    "2)Stock Market Prediction And Forecasting Using Stacked LSTM\n",
    "\n",
    "Datasetlinks: : https://raw.githubusercontent.com/mwitiderrick/stockprice/master/NSE-TATAGLOBAL.csv"
   ]
  },
  {
   "cell_type": "code",
   "execution_count": 1,
   "id": "1558e6ff",
   "metadata": {},
   "outputs": [],
   "source": [
    "import numpy as np\n",
    "import pandas as pd\n",
    "import matplotlib.pyplot as plt\n",
    "import seaborn as sns\n",
    "import sklearn\n",
    "%matplotlib inline"
   ]
  },
  {
   "cell_type": "code",
   "execution_count": 2,
   "id": "8cf99fca",
   "metadata": {},
   "outputs": [
    {
     "data": {
      "text/html": [
       "<div>\n",
       "<style scoped>\n",
       "    .dataframe tbody tr th:only-of-type {\n",
       "        vertical-align: middle;\n",
       "    }\n",
       "\n",
       "    .dataframe tbody tr th {\n",
       "        vertical-align: top;\n",
       "    }\n",
       "\n",
       "    .dataframe thead th {\n",
       "        text-align: right;\n",
       "    }\n",
       "</style>\n",
       "<table border=\"1\" class=\"dataframe\">\n",
       "  <thead>\n",
       "    <tr style=\"text-align: right;\">\n",
       "      <th></th>\n",
       "      <th>Date</th>\n",
       "      <th>Open</th>\n",
       "      <th>High</th>\n",
       "      <th>Low</th>\n",
       "      <th>Last</th>\n",
       "      <th>Close</th>\n",
       "      <th>Total Trade Quantity</th>\n",
       "      <th>Turnover (Lacs)</th>\n",
       "    </tr>\n",
       "  </thead>\n",
       "  <tbody>\n",
       "    <tr>\n",
       "      <th>0</th>\n",
       "      <td>2018-09-28</td>\n",
       "      <td>234.05</td>\n",
       "      <td>235.95</td>\n",
       "      <td>230.20</td>\n",
       "      <td>233.50</td>\n",
       "      <td>233.75</td>\n",
       "      <td>3069914</td>\n",
       "      <td>7162.35</td>\n",
       "    </tr>\n",
       "    <tr>\n",
       "      <th>1</th>\n",
       "      <td>2018-09-27</td>\n",
       "      <td>234.55</td>\n",
       "      <td>236.80</td>\n",
       "      <td>231.10</td>\n",
       "      <td>233.80</td>\n",
       "      <td>233.25</td>\n",
       "      <td>5082859</td>\n",
       "      <td>11859.95</td>\n",
       "    </tr>\n",
       "    <tr>\n",
       "      <th>2</th>\n",
       "      <td>2018-09-26</td>\n",
       "      <td>240.00</td>\n",
       "      <td>240.00</td>\n",
       "      <td>232.50</td>\n",
       "      <td>235.00</td>\n",
       "      <td>234.25</td>\n",
       "      <td>2240909</td>\n",
       "      <td>5248.60</td>\n",
       "    </tr>\n",
       "    <tr>\n",
       "      <th>3</th>\n",
       "      <td>2018-09-25</td>\n",
       "      <td>233.30</td>\n",
       "      <td>236.75</td>\n",
       "      <td>232.00</td>\n",
       "      <td>236.25</td>\n",
       "      <td>236.10</td>\n",
       "      <td>2349368</td>\n",
       "      <td>5503.90</td>\n",
       "    </tr>\n",
       "    <tr>\n",
       "      <th>4</th>\n",
       "      <td>2018-09-24</td>\n",
       "      <td>233.55</td>\n",
       "      <td>239.20</td>\n",
       "      <td>230.75</td>\n",
       "      <td>234.00</td>\n",
       "      <td>233.30</td>\n",
       "      <td>3423509</td>\n",
       "      <td>7999.55</td>\n",
       "    </tr>\n",
       "  </tbody>\n",
       "</table>\n",
       "</div>"
      ],
      "text/plain": [
       "         Date    Open    High     Low    Last   Close  Total Trade Quantity  \\\n",
       "0  2018-09-28  234.05  235.95  230.20  233.50  233.75               3069914   \n",
       "1  2018-09-27  234.55  236.80  231.10  233.80  233.25               5082859   \n",
       "2  2018-09-26  240.00  240.00  232.50  235.00  234.25               2240909   \n",
       "3  2018-09-25  233.30  236.75  232.00  236.25  236.10               2349368   \n",
       "4  2018-09-24  233.55  239.20  230.75  234.00  233.30               3423509   \n",
       "\n",
       "   Turnover (Lacs)  \n",
       "0          7162.35  \n",
       "1         11859.95  \n",
       "2          5248.60  \n",
       "3          5503.90  \n",
       "4          7999.55  "
      ]
     },
     "execution_count": 2,
     "metadata": {},
     "output_type": "execute_result"
    }
   ],
   "source": [
    "df = pd.read_csv(\"stock_market.csv\")\n",
    "df.head()"
   ]
  },
  {
   "cell_type": "code",
   "execution_count": 3,
   "id": "ecc7e270",
   "metadata": {},
   "outputs": [
    {
     "data": {
      "text/html": [
       "<div>\n",
       "<style scoped>\n",
       "    .dataframe tbody tr th:only-of-type {\n",
       "        vertical-align: middle;\n",
       "    }\n",
       "\n",
       "    .dataframe tbody tr th {\n",
       "        vertical-align: top;\n",
       "    }\n",
       "\n",
       "    .dataframe thead th {\n",
       "        text-align: right;\n",
       "    }\n",
       "</style>\n",
       "<table border=\"1\" class=\"dataframe\">\n",
       "  <thead>\n",
       "    <tr style=\"text-align: right;\">\n",
       "      <th></th>\n",
       "      <th>Date</th>\n",
       "      <th>Open</th>\n",
       "      <th>High</th>\n",
       "      <th>Low</th>\n",
       "      <th>Last</th>\n",
       "      <th>Close</th>\n",
       "      <th>Total Trade Quantity</th>\n",
       "      <th>Turnover (Lacs)</th>\n",
       "    </tr>\n",
       "  </thead>\n",
       "  <tbody>\n",
       "    <tr>\n",
       "      <th>2030</th>\n",
       "      <td>2010-07-27</td>\n",
       "      <td>117.6</td>\n",
       "      <td>119.50</td>\n",
       "      <td>112.00</td>\n",
       "      <td>118.80</td>\n",
       "      <td>118.65</td>\n",
       "      <td>586100</td>\n",
       "      <td>694.98</td>\n",
       "    </tr>\n",
       "    <tr>\n",
       "      <th>2031</th>\n",
       "      <td>2010-07-26</td>\n",
       "      <td>120.1</td>\n",
       "      <td>121.00</td>\n",
       "      <td>117.10</td>\n",
       "      <td>117.10</td>\n",
       "      <td>117.60</td>\n",
       "      <td>658440</td>\n",
       "      <td>780.01</td>\n",
       "    </tr>\n",
       "    <tr>\n",
       "      <th>2032</th>\n",
       "      <td>2010-07-23</td>\n",
       "      <td>121.8</td>\n",
       "      <td>121.95</td>\n",
       "      <td>120.25</td>\n",
       "      <td>120.35</td>\n",
       "      <td>120.65</td>\n",
       "      <td>281312</td>\n",
       "      <td>340.31</td>\n",
       "    </tr>\n",
       "    <tr>\n",
       "      <th>2033</th>\n",
       "      <td>2010-07-22</td>\n",
       "      <td>120.3</td>\n",
       "      <td>122.00</td>\n",
       "      <td>120.25</td>\n",
       "      <td>120.75</td>\n",
       "      <td>120.90</td>\n",
       "      <td>293312</td>\n",
       "      <td>355.17</td>\n",
       "    </tr>\n",
       "    <tr>\n",
       "      <th>2034</th>\n",
       "      <td>2010-07-21</td>\n",
       "      <td>122.1</td>\n",
       "      <td>123.00</td>\n",
       "      <td>121.05</td>\n",
       "      <td>121.10</td>\n",
       "      <td>121.55</td>\n",
       "      <td>658666</td>\n",
       "      <td>803.56</td>\n",
       "    </tr>\n",
       "  </tbody>\n",
       "</table>\n",
       "</div>"
      ],
      "text/plain": [
       "            Date   Open    High     Low    Last   Close  Total Trade Quantity  \\\n",
       "2030  2010-07-27  117.6  119.50  112.00  118.80  118.65                586100   \n",
       "2031  2010-07-26  120.1  121.00  117.10  117.10  117.60                658440   \n",
       "2032  2010-07-23  121.8  121.95  120.25  120.35  120.65                281312   \n",
       "2033  2010-07-22  120.3  122.00  120.25  120.75  120.90                293312   \n",
       "2034  2010-07-21  122.1  123.00  121.05  121.10  121.55                658666   \n",
       "\n",
       "      Turnover (Lacs)  \n",
       "2030           694.98  \n",
       "2031           780.01  \n",
       "2032           340.31  \n",
       "2033           355.17  \n",
       "2034           803.56  "
      ]
     },
     "execution_count": 3,
     "metadata": {},
     "output_type": "execute_result"
    }
   ],
   "source": [
    "df.tail()"
   ]
  },
  {
   "cell_type": "code",
   "execution_count": 48,
   "id": "03181b0d",
   "metadata": {},
   "outputs": [
    {
     "data": {
      "text/plain": [
       "(2035, 8)"
      ]
     },
     "execution_count": 48,
     "metadata": {},
     "output_type": "execute_result"
    }
   ],
   "source": [
    "df.shape"
   ]
  },
  {
   "cell_type": "code",
   "execution_count": 4,
   "id": "77702ab1",
   "metadata": {},
   "outputs": [],
   "source": [
    "df1 = df.reset_index()['Close']"
   ]
  },
  {
   "cell_type": "code",
   "execution_count": 5,
   "id": "841d2dd5",
   "metadata": {},
   "outputs": [
    {
     "data": {
      "text/plain": [
       "0       233.75\n",
       "1       233.25\n",
       "2       234.25\n",
       "3       236.10\n",
       "4       233.30\n",
       "         ...  \n",
       "2030    118.65\n",
       "2031    117.60\n",
       "2032    120.65\n",
       "2033    120.90\n",
       "2034    121.55\n",
       "Name: Close, Length: 2035, dtype: float64"
      ]
     },
     "execution_count": 5,
     "metadata": {},
     "output_type": "execute_result"
    }
   ],
   "source": [
    "df1"
   ]
  },
  {
   "cell_type": "code",
   "execution_count": 6,
   "id": "37426f9b",
   "metadata": {},
   "outputs": [
    {
     "data": {
      "text/plain": [
       "[<matplotlib.lines.Line2D at 0x1c84dfae970>]"
      ]
     },
     "execution_count": 6,
     "metadata": {},
     "output_type": "execute_result"
    },
    {
     "data": {
      "image/png": "[encoded data removed]",
      "text/plain": [
       "<Figure size 432x288 with 1 Axes>"
      ]
     },
     "metadata": {
      "needs_background": "light"
     },
     "output_type": "display_data"
    }
   ],
   "source": [
    "plt.plot(df1)"
   ]
  },
  {
   "cell_type": "code",
   "execution_count": 7,
   "id": "938b314b",
   "metadata": {},
   "outputs": [],
   "source": [
    "from sklearn.preprocessing import MinMaxScaler\n",
    "scaler=MinMaxScaler(feature_range=(0,1))\n",
    "df1=scaler.fit_transform(np.array(df1).reshape(-1,1))"
   ]
  },
  {
   "cell_type": "code",
   "execution_count": 8,
   "id": "6ebf780e",
   "metadata": {},
   "outputs": [
    {
     "data": {
      "text/plain": [
       "array([[0.62418301],\n",
       "       [0.62214052],\n",
       "       [0.62622549],\n",
       "       ...,\n",
       "       [0.1621732 ],\n",
       "       [0.16319444],\n",
       "       [0.16584967]])"
      ]
     },
     "execution_count": 8,
     "metadata": {},
     "output_type": "execute_result"
    }
   ],
   "source": [
    "df1"
   ]
  },
  {
   "cell_type": "markdown",
   "id": "c0cd834e",
   "metadata": {},
   "source": [
    "split the dataset into training and testing part"
   ]
  },
  {
   "cell_type": "code",
   "execution_count": 9,
   "id": "ac758fbc",
   "metadata": {},
   "outputs": [],
   "source": [
    "training_size=int(len(df1)*0.70)\n",
    "testing_size=len(df1)-training_size\n",
    "training_data,testing_data=df1[0:training_size,:],df1[training_size:len(df1),:1]"
   ]
  },
  {
   "cell_type": "code",
   "execution_count": 10,
   "id": "88ba4453",
   "metadata": {},
   "outputs": [
    {
     "data": {
      "text/plain": [
       "(1424, 611)"
      ]
     },
     "execution_count": 10,
     "metadata": {},
     "output_type": "execute_result"
    }
   ],
   "source": [
    "training_size,testing_size"
   ]
  },
  {
   "cell_type": "code",
   "execution_count": 11,
   "id": "457dd96f",
   "metadata": {},
   "outputs": [
    {
     "data": {
      "text/plain": [
       "array([[0.62418301],\n",
       "       [0.62214052],\n",
       "       [0.62622549],\n",
       "       ...,\n",
       "       [0.32618464],\n",
       "       [0.32271242],\n",
       "       [0.3247549 ]])"
      ]
     },
     "execution_count": 11,
     "metadata": {},
     "output_type": "execute_result"
    }
   ],
   "source": [
    "training_data"
   ]
  },
  {
   "cell_type": "code",
   "execution_count": 12,
   "id": "77ea8320",
   "metadata": {},
   "outputs": [],
   "source": [
    "def create_dataset(dataset, time_step=1):\n",
    "    dataX, dataY = [], []\n",
    "    for i in range(len(dataset)-time_step-1):\n",
    "        a = dataset[i:(i+time_step), 0]\n",
    "        dataX.append(a)\n",
    "        dataY.append(dataset[i + time_step, 0])\n",
    "    return np.array(dataX), np.array(dataY)"
   ]
  },
  {
   "cell_type": "code",
   "execution_count": 13,
   "id": "4feb32b3",
   "metadata": {},
   "outputs": [],
   "source": [
    "time_step = 100\n",
    "X_train, y_train = create_dataset(training_data, time_step)\n",
    "X_test, ytest = create_dataset(testing_data, time_step)"
   ]
  },
  {
   "cell_type": "code",
   "execution_count": 14,
   "id": "1b1228bc",
   "metadata": {},
   "outputs": [
    {
     "data": {
      "text/plain": [
       "((1323, 100), (1323,))"
      ]
     },
     "execution_count": 14,
     "metadata": {},
     "output_type": "execute_result"
    }
   ],
   "source": [
    "X_train.shape, y_train.shape"
   ]
  },
  {
   "cell_type": "code",
   "execution_count": 15,
   "id": "98c0055a",
   "metadata": {},
   "outputs": [
    {
     "data": {
      "text/plain": [
       "((510, 100), (510,))"
      ]
     },
     "execution_count": 15,
     "metadata": {},
     "output_type": "execute_result"
    }
   ],
   "source": [
    "X_test.shape,ytest.shape"
   ]
  },
  {
   "cell_type": "code",
   "execution_count": 16,
   "id": "c15db93f",
   "metadata": {},
   "outputs": [],
   "source": [
    "X_train =X_train.reshape(X_train.shape[0],X_train.shape[1] , 1)\n",
    "X_test = X_test.reshape(X_test.shape[0],X_test.shape[1] , 1)"
   ]
  },
  {
   "cell_type": "code",
   "execution_count": 17,
   "id": "ec39e802",
   "metadata": {},
   "outputs": [],
   "source": [
    "from tensorflow.keras.models import Sequential\n",
    "from tensorflow.keras.layers import Dense\n",
    "from tensorflow.keras.layers import LSTM"
   ]
  },
  {
   "cell_type": "code",
   "execution_count": 18,
   "id": "e30e9baf",
   "metadata": {},
   "outputs": [],
   "source": [
    "model=Sequential()\n",
    "model.add(LSTM(50,return_sequences=True,input_shape=(100,1)))\n",
    "model.add(LSTM(50,return_sequences=True))\n",
    "model.add(LSTM(50))\n",
    "model.add(Dense(1))\n",
    "model.compile(loss='mean_squared_error',optimizer='adam')"
   ]
  },
  {
   "cell_type": "code",
   "execution_count": 19,
   "id": "57d135a7",
   "metadata": {},
   "outputs": [
    {
     "name": "stdout",
     "output_type": "stream",
     "text": [
      "Model: \"sequential\"\n",
      "_________________________________________________________________\n",
      "Layer (type)                 Output Shape              Param #   \n",
      "=================================================================\n",
      "lstm (LSTM)                  (None, 100, 50)           10400     \n",
      "_________________________________________________________________\n",
      "lstm_1 (LSTM)                (None, 100, 50)           20200     \n",
      "_________________________________________________________________\n",
      "lstm_2 (LSTM)                (None, 50)                20200     \n",
      "_________________________________________________________________\n",
      "dense (Dense)                (None, 1)                 51        \n",
      "=================================================================\n",
      "Total params: 50,851\n",
      "Trainable params: 50,851\n",
      "Non-trainable params: 0\n",
      "_________________________________________________________________\n"
     ]
    }
   ],
   "source": [
    "model.summary()"
   ]
  },
  {
   "cell_type": "code",
   "execution_count": 20,
   "id": "21ac168d",
   "metadata": {},
   "outputs": [
    {
     "name": "stdout",
     "output_type": "stream",
     "text": [
      "Epoch 1/100\n",
      "21/21 [==============================] - 17s 411ms/step - loss: 0.0327 - val_loss: 0.0062\n",
      "Epoch 2/100\n",
      "21/21 [==============================] - 7s 347ms/step - loss: 0.0035 - val_loss: 0.0016\n",
      "Epoch 3/100\n",
      "21/21 [==============================] - 7s 337ms/step - loss: 0.0018 - val_loss: 0.0012\n",
      "Epoch 4/100\n",
      "21/21 [==============================] - 7s 329ms/step - loss: 0.0016 - val_loss: 0.0014\n",
      "Epoch 5/100\n",
      "21/21 [==============================] - 7s 322ms/step - loss: 0.0014 - val_loss: 0.0013\n",
      "Epoch 6/100\n",
      "21/21 [==============================] - 6s 280ms/step - loss: 0.0014 - val_loss: 0.0013\n",
      "Epoch 7/100\n",
      "21/21 [==============================] - 7s 317ms/step - loss: 0.0012 - val_loss: 0.0013\n",
      "Epoch 8/100\n",
      "21/21 [==============================] - 6s 309ms/step - loss: 0.0012 - val_loss: 0.0011\n",
      "Epoch 9/100\n",
      "21/21 [==============================] - 7s 318ms/step - loss: 0.0011 - val_loss: 0.0014\n",
      "Epoch 10/100\n",
      "21/21 [==============================] - 7s 323ms/step - loss: 0.0011 - val_loss: 0.0012\n",
      "Epoch 11/100\n",
      "21/21 [==============================] - 6s 290ms/step - loss: 0.0010 - val_loss: 0.0012\n",
      "Epoch 12/100\n",
      "21/21 [==============================] - 7s 321ms/step - loss: 9.5450e-04 - val_loss: 7.7907e-04\n",
      "Epoch 13/100\n",
      "21/21 [==============================] - 6s 297ms/step - loss: 9.0459e-04 - val_loss: 8.2775e-04\n",
      "Epoch 14/100\n",
      "21/21 [==============================] - 7s 316ms/step - loss: 9.0789e-04 - val_loss: 7.2168e-04\n",
      "Epoch 15/100\n",
      "21/21 [==============================] - 7s 321ms/step - loss: 8.8038e-04 - val_loss: 6.9853e-04\n",
      "Epoch 16/100\n",
      "21/21 [==============================] - 6s 274ms/step - loss: 8.3324e-04 - val_loss: 9.3240e-04\n",
      "Epoch 17/100\n",
      "21/21 [==============================] - 7s 322ms/step - loss: 8.4128e-04 - val_loss: 6.0266e-04\n",
      "Epoch 18/100\n",
      "21/21 [==============================] - 6s 291ms/step - loss: 8.8390e-04 - val_loss: 8.9104e-04\n",
      "Epoch 19/100\n",
      "21/21 [==============================] - 7s 318ms/step - loss: 8.0497e-04 - val_loss: 6.5981e-04\n",
      "Epoch 20/100\n",
      "21/21 [==============================] - 7s 322ms/step - loss: 7.5173e-04 - val_loss: 8.0824e-04\n",
      "Epoch 21/100\n",
      "21/21 [==============================] - 6s 274ms/step - loss: 7.6316e-04 - val_loss: 7.6031e-04\n",
      "Epoch 22/100\n",
      "21/21 [==============================] - 7s 321ms/step - loss: 7.2449e-04 - val_loss: 5.5538e-04\n",
      "Epoch 23/100\n",
      "21/21 [==============================] - 6s 292ms/step - loss: 6.9228e-04 - val_loss: 6.8950e-04\n",
      "Epoch 24/100\n",
      "21/21 [==============================] - 7s 313ms/step - loss: 6.4983e-04 - val_loss: 7.9249e-04\n",
      "Epoch 25/100\n",
      "21/21 [==============================] - 7s 320ms/step - loss: 6.8057e-04 - val_loss: 7.5638e-04\n",
      "Epoch 26/100\n",
      "21/21 [==============================] - 6s 275ms/step - loss: 6.3024e-04 - val_loss: 6.9461e-04\n",
      "Epoch 27/100\n",
      "21/21 [==============================] - 7s 320ms/step - loss: 6.4519e-04 - val_loss: 6.3164e-04\n",
      "Epoch 28/100\n",
      "21/21 [==============================] - 6s 299ms/step - loss: 6.4630e-04 - val_loss: 7.1345e-04\n",
      "Epoch 29/100\n",
      "21/21 [==============================] - 7s 315ms/step - loss: 6.0649e-04 - val_loss: 6.0942e-04\n",
      "Epoch 30/100\n",
      "21/21 [==============================] - 7s 320ms/step - loss: 6.5947e-04 - val_loss: 6.4823e-04\n",
      "Epoch 31/100\n",
      "21/21 [==============================] - 6s 264ms/step - loss: 6.2333e-04 - val_loss: 4.9199e-04\n",
      "Epoch 32/100\n",
      "21/21 [==============================] - 7s 320ms/step - loss: 6.0317e-04 - val_loss: 6.4342e-04\n",
      "Epoch 33/100\n",
      "21/21 [==============================] - 6s 288ms/step - loss: 5.5257e-04 - val_loss: 7.8721e-04\n",
      "Epoch 34/100\n",
      "21/21 [==============================] - 7s 317ms/step - loss: 5.7145e-04 - val_loss: 7.9848e-04\n",
      "Epoch 35/100\n",
      "21/21 [==============================] - 7s 321ms/step - loss: 5.6709e-04 - val_loss: 8.1559e-04\n",
      "Epoch 36/100\n",
      "21/21 [==============================] - 6s 272ms/step - loss: 5.3160e-04 - val_loss: 4.8875e-04\n",
      "Epoch 37/100\n",
      "21/21 [==============================] - 7s 319ms/step - loss: 5.9956e-04 - val_loss: 4.7250e-04\n",
      "Epoch 38/100\n",
      "21/21 [==============================] - 6s 291ms/step - loss: 5.4790e-04 - val_loss: 7.1198e-04\n",
      "Epoch 39/100\n",
      "21/21 [==============================] - 7s 316ms/step - loss: 5.9103e-04 - val_loss: 6.2296e-04\n",
      "Epoch 40/100\n",
      "21/21 [==============================] - 7s 321ms/step - loss: 5.6267e-04 - val_loss: 4.8235e-04\n",
      "Epoch 41/100\n",
      "21/21 [==============================] - 5s 247ms/step - loss: 5.0858e-04 - val_loss: 5.7537e-04\n",
      "Epoch 42/100\n",
      "21/21 [==============================] - 7s 321ms/step - loss: 4.8420e-04 - val_loss: 6.4067e-04\n",
      "Epoch 43/100\n",
      "21/21 [==============================] - 6s 275ms/step - loss: 4.7885e-04 - val_loss: 5.3841e-04\n",
      "Epoch 44/100\n",
      "21/21 [==============================] - 5s 256ms/step - loss: 4.7431e-04 - val_loss: 5.6867e-04\n",
      "Epoch 45/100\n",
      "21/21 [==============================] - 7s 322ms/step - loss: 4.7563e-04 - val_loss: 4.8086e-04\n",
      "Epoch 46/100\n",
      "21/21 [==============================] - 6s 279ms/step - loss: 5.2421e-04 - val_loss: 4.6348e-04\n",
      "Epoch 47/100\n",
      "21/21 [==============================] - 7s 321ms/step - loss: 4.6440e-04 - val_loss: 6.9903e-04\n",
      "Epoch 48/100\n",
      "21/21 [==============================] - 7s 312ms/step - loss: 5.1945e-04 - val_loss: 6.4619e-04\n",
      "Epoch 49/100\n",
      "21/21 [==============================] - 6s 274ms/step - loss: 4.9078e-04 - val_loss: 4.5642e-04\n",
      "Epoch 50/100\n",
      "21/21 [==============================] - 7s 320ms/step - loss: 4.5606e-04 - val_loss: 6.3158e-04\n",
      "Epoch 51/100\n",
      "21/21 [==============================] - 6s 291ms/step - loss: 4.6390e-04 - val_loss: 3.8770e-04\n",
      "Epoch 52/100\n",
      "21/21 [==============================] - 7s 313ms/step - loss: 4.2046e-04 - val_loss: 3.5522e-04\n",
      "Epoch 53/100\n",
      "21/21 [==============================] - 7s 319ms/step - loss: 5.2947e-04 - val_loss: 3.6240e-04\n",
      "Epoch 54/100\n",
      "21/21 [==============================] - 6s 279ms/step - loss: 4.4595e-04 - val_loss: 3.9464e-04\n",
      "Epoch 55/100\n",
      "21/21 [==============================] - 7s 320ms/step - loss: 4.0825e-04 - val_loss: 4.6733e-04\n",
      "Epoch 56/100\n",
      "21/21 [==============================] - 6s 292ms/step - loss: 4.1035e-04 - val_loss: 5.2459e-04\n",
      "Epoch 57/100\n",
      "21/21 [==============================] - 7s 315ms/step - loss: 4.0778e-04 - val_loss: 5.5899e-04\n",
      "Epoch 58/100\n",
      "21/21 [==============================] - 7s 320ms/step - loss: 3.8572e-04 - val_loss: 4.5566e-04\n",
      "Epoch 59/100\n",
      "21/21 [==============================] - 6s 273ms/step - loss: 3.8227e-04 - val_loss: 5.4906e-04\n",
      "Epoch 60/100\n",
      "21/21 [==============================] - 7s 321ms/step - loss: 3.8019e-04 - val_loss: 3.3706e-04\n",
      "Epoch 61/100\n",
      "21/21 [==============================] - 6s 298ms/step - loss: 3.7327e-04 - val_loss: 4.1794e-04\n",
      "Epoch 62/100\n",
      "21/21 [==============================] - 7s 313ms/step - loss: 3.5508e-04 - val_loss: 3.6994e-04\n",
      "Epoch 63/100\n",
      "21/21 [==============================] - 7s 311ms/step - loss: 3.8127e-04 - val_loss: 3.6715e-04\n",
      "Epoch 64/100\n",
      "21/21 [==============================] - 6s 269ms/step - loss: 3.6032e-04 - val_loss: 3.9801e-04\n",
      "Epoch 65/100\n",
      "21/21 [==============================] - 7s 320ms/step - loss: 4.3448e-04 - val_loss: 3.5227e-04\n",
      "Epoch 66/100\n",
      "21/21 [==============================] - 6s 306ms/step - loss: 4.2105e-04 - val_loss: 4.0111e-04\n",
      "Epoch 67/100\n",
      "21/21 [==============================] - 7s 313ms/step - loss: 3.3790e-04 - val_loss: 3.9420e-04\n",
      "Epoch 68/100\n",
      "21/21 [==============================] - 7s 319ms/step - loss: 3.3546e-04 - val_loss: 3.0545e-04\n",
      "Epoch 69/100\n",
      "21/21 [==============================] - 6s 265ms/step - loss: 4.1328e-04 - val_loss: 3.9178e-04\n",
      "Epoch 70/100\n",
      "21/21 [==============================] - 7s 320ms/step - loss: 3.2826e-04 - val_loss: 2.9826e-04\n",
      "Epoch 71/100\n",
      "21/21 [==============================] - 6s 294ms/step - loss: 3.6009e-04 - val_loss: 3.5801e-04\n",
      "Epoch 72/100\n",
      "21/21 [==============================] - 6s 316ms/step - loss: 3.7219e-04 - val_loss: 3.4385e-04\n",
      "Epoch 73/100\n",
      "21/21 [==============================] - 7s 318ms/step - loss: 3.2161e-04 - val_loss: 4.1876e-04\n",
      "Epoch 74/100\n",
      "21/21 [==============================] - 6s 274ms/step - loss: 3.0541e-04 - val_loss: 2.8541e-04\n",
      "Epoch 75/100\n",
      "21/21 [==============================] - 7s 319ms/step - loss: 3.0302e-04 - val_loss: 3.8318e-04\n",
      "Epoch 76/100\n"
     ]
    },
    {
     "name": "stdout",
     "output_type": "stream",
     "text": [
      "21/21 [==============================] - 6s 302ms/step - loss: 3.1504e-04 - val_loss: 3.1835e-04\n",
      "Epoch 77/100\n",
      "21/21 [==============================] - 6s 307ms/step - loss: 2.8756e-04 - val_loss: 2.8309e-04\n",
      "Epoch 78/100\n",
      "21/21 [==============================] - 7s 318ms/step - loss: 2.8984e-04 - val_loss: 3.1449e-04\n",
      "Epoch 79/100\n",
      "21/21 [==============================] - 6s 281ms/step - loss: 3.4643e-04 - val_loss: 2.7504e-04\n",
      "Epoch 80/100\n",
      "21/21 [==============================] - 7s 318ms/step - loss: 3.2859e-04 - val_loss: 2.5269e-04\n",
      "Epoch 81/100\n",
      "21/21 [==============================] - 6s 303ms/step - loss: 3.0044e-04 - val_loss: 2.8093e-04\n",
      "Epoch 82/100\n",
      "21/21 [==============================] - 5s 243ms/step - loss: 2.7725e-04 - val_loss: 2.6450e-04\n",
      "Epoch 83/100\n",
      "21/21 [==============================] - 6s 301ms/step - loss: 3.0653e-04 - val_loss: 2.3272e-04\n",
      "Epoch 84/100\n",
      "21/21 [==============================] - 6s 279ms/step - loss: 2.7608e-04 - val_loss: 2.7196e-04\n",
      "Epoch 85/100\n",
      "21/21 [==============================] - 7s 322ms/step - loss: 2.9509e-04 - val_loss: 2.3835e-04\n",
      "Epoch 86/100\n",
      "21/21 [==============================] - 7s 318ms/step - loss: 3.6087e-04 - val_loss: 3.4556e-04\n",
      "Epoch 87/100\n",
      "21/21 [==============================] - 6s 279ms/step - loss: 3.6272e-04 - val_loss: 3.2291e-04\n",
      "Epoch 88/100\n",
      "21/21 [==============================] - 7s 318ms/step - loss: 3.1215e-04 - val_loss: 3.7798e-04\n",
      "Epoch 89/100\n",
      "21/21 [==============================] - 6s 282ms/step - loss: 3.0209e-04 - val_loss: 3.9840e-04\n",
      "Epoch 90/100\n",
      "21/21 [==============================] - 7s 318ms/step - loss: 2.8705e-04 - val_loss: 4.1762e-04\n",
      "Epoch 91/100\n",
      "21/21 [==============================] - 7s 319ms/step - loss: 2.8832e-04 - val_loss: 3.9702e-04\n",
      "Epoch 92/100\n",
      "21/21 [==============================] - 6s 271ms/step - loss: 2.5991e-04 - val_loss: 2.3920e-04\n",
      "Epoch 93/100\n",
      "21/21 [==============================] - 7s 319ms/step - loss: 2.4262e-04 - val_loss: 2.7517e-04\n",
      "Epoch 94/100\n",
      "21/21 [==============================] - 6s 289ms/step - loss: 2.5469e-04 - val_loss: 2.5170e-04\n",
      "Epoch 95/100\n",
      "21/21 [==============================] - 7s 313ms/step - loss: 2.4195e-04 - val_loss: 2.5521e-04\n",
      "Epoch 96/100\n",
      "21/21 [==============================] - 6s 306ms/step - loss: 2.4329e-04 - val_loss: 3.4560e-04\n",
      "Epoch 97/100\n",
      "21/21 [==============================] - 6s 275ms/step - loss: 2.4247e-04 - val_loss: 2.0323e-04\n",
      "Epoch 98/100\n",
      "21/21 [==============================] - 7s 321ms/step - loss: 2.5042e-04 - val_loss: 1.9645e-04\n",
      "Epoch 99/100\n",
      "21/21 [==============================] - 6s 303ms/step - loss: 2.4184e-04 - val_loss: 2.3438e-04\n",
      "Epoch 100/100\n",
      "21/21 [==============================] - 6s 312ms/step - loss: 2.3547e-04 - val_loss: 1.9630e-04\n"
     ]
    },
    {
     "data": {
      "text/plain": [
       "<keras.callbacks.History at 0x1c8574845b0>"
      ]
     },
     "execution_count": 20,
     "metadata": {},
     "output_type": "execute_result"
    }
   ],
   "source": [
    "model.fit(X_train,y_train,validation_data=(X_test,ytest),epochs=100,batch_size=64,verbose=1)"
   ]
  },
  {
   "cell_type": "code",
   "execution_count": 21,
   "id": "bb4428ae",
   "metadata": {},
   "outputs": [],
   "source": [
    "import tensorflow as tf"
   ]
  },
  {
   "cell_type": "code",
   "execution_count": 22,
   "id": "17598e97",
   "metadata": {},
   "outputs": [
    {
     "data": {
      "text/plain": [
       "'2.6.0'"
      ]
     },
     "execution_count": 22,
     "metadata": {},
     "output_type": "execute_result"
    }
   ],
   "source": [
    "tf.__version__"
   ]
  },
  {
   "cell_type": "code",
   "execution_count": 23,
   "id": "55f01ccb",
   "metadata": {},
   "outputs": [],
   "source": [
    "train_predict=model.predict(X_train)\n",
    "test_predict=model.predict(X_test)"
   ]
  },
  {
   "cell_type": "code",
   "execution_count": 24,
   "id": "d92e5598",
   "metadata": {},
   "outputs": [],
   "source": [
    "train_predict=scaler.inverse_transform(train_predict)\n",
    "test_predict=scaler.inverse_transform(test_predict)"
   ]
  },
  {
   "cell_type": "code",
   "execution_count": 25,
   "id": "65211f08",
   "metadata": {},
   "outputs": [
    {
     "data": {
      "text/plain": [
       "163.81753201130635"
      ]
     },
     "execution_count": 25,
     "metadata": {},
     "output_type": "execute_result"
    }
   ],
   "source": [
    "import math\n",
    "from sklearn.metrics import mean_squared_error\n",
    "math.sqrt(mean_squared_error(y_train,train_predict))"
   ]
  },
  {
   "cell_type": "code",
   "execution_count": 26,
   "id": "67e2d6d2",
   "metadata": {},
   "outputs": [
    {
     "data": {
      "text/plain": [
       "107.37900927111649"
      ]
     },
     "execution_count": 26,
     "metadata": {},
     "output_type": "execute_result"
    }
   ],
   "source": [
    "math.sqrt(mean_squared_error(ytest,test_predict))"
   ]
  },
  {
   "cell_type": "code",
   "execution_count": 27,
   "id": "7ed19ada",
   "metadata": {},
   "outputs": [],
   "source": [
    "look_back=100\n",
    "trainPredictPlot = np.empty_like(df1)\n",
    "trainPredictPlot[:, :] = np.nan\n",
    "trainPredictPlot[look_back:len(train_predict)+look_back, :] = train_predict\n",
    "\n",
    "testPredictPlot = np.empty_like(df1)\n",
    "testPredictPlot[:, :] = np.nan\n",
    "testPredictPlot[len(train_predict)+(look_back*2)+1:len(df1)-1, :] = test_predict"
   ]
  },
  {
   "cell_type": "code",
   "execution_count": 28,
   "id": "08e9088f",
   "metadata": {},
   "outputs": [
    {
     "data": {
      "image/png": "[encoded data removed]",
      "text/plain": [
       "<Figure size 432x288 with 1 Axes>"
      ]
     },
     "metadata": {
      "needs_background": "light"
     },
     "output_type": "display_data"
    }
   ],
   "source": [
    "plt.plot(scaler.inverse_transform(df1))\n",
    "plt.plot(trainPredictPlot)\n",
    "plt.plot(testPredictPlot)\n",
    "plt.show()"
   ]
  },
  {
   "cell_type": "code",
   "execution_count": 30,
   "id": "536a34b8",
   "metadata": {},
   "outputs": [
    {
     "data": {
      "text/plain": [
       "611"
      ]
     },
     "execution_count": 30,
     "metadata": {},
     "output_type": "execute_result"
    }
   ],
   "source": [
    "len(testing_data)"
   ]
  },
  {
   "cell_type": "code",
   "execution_count": 32,
   "id": "535cb43d",
   "metadata": {},
   "outputs": [
    {
     "data": {
      "text/plain": [
       "(1, 270)"
      ]
     },
     "execution_count": 32,
     "metadata": {},
     "output_type": "execute_result"
    }
   ],
   "source": [
    "x_input=testing_data[341:].reshape(1,-1)\n",
    "x_input.shape"
   ]
  },
  {
   "cell_type": "code",
   "execution_count": 33,
   "id": "4d32284c",
   "metadata": {},
   "outputs": [],
   "source": [
    "temp_input=list(x_input)\n",
    "temp_input=temp_input[0].tolist()"
   ]
  },
  {
   "cell_type": "code",
   "execution_count": 34,
   "id": "e6a768af",
   "metadata": {},
   "outputs": [
    {
     "data": {
      "text/plain": [
       "[0.08721405228758167,\n",
       " 0.08986928104575165,\n",
       " 0.10498366013071897,\n",
       " 0.08905228758169931,\n",
       " 0.10355392156862742,\n",
       " 0.10375816993464049,\n",
       " 0.12275326797385616,\n",
       " 0.1090686274509804,\n",
       " 0.09660947712418294,\n",
       " 0.10641339869281041,\n",
       " 0.10457516339869277,\n",
       " 0.11049836601307189,\n",
       " 0.11274509803921567,\n",
       " 0.0980392156862745,\n",
       " 0.09987745098039214,\n",
       " 0.08925653594771238,\n",
       " 0.07475490196078427,\n",
       " 0.08169934640522875,\n",
       " 0.08925653594771238,\n",
       " 0.09068627450980393,\n",
       " 0.08129084967320255,\n",
       " 0.08823529411764702,\n",
       " 0.08455882352941174,\n",
       " 0.07945261437908496,\n",
       " 0.08374183006535946,\n",
       " 0.0778186274509804,\n",
       " 0.09824346405228757,\n",
       " 0.090890522875817,\n",
       " 0.09007352941176466,\n",
       " 0.09558823529411759,\n",
       " 0.06862745098039214,\n",
       " 0.06372549019607837,\n",
       " 0.04942810457516339,\n",
       " 0.04799836601307189,\n",
       " 0.04534313725490191,\n",
       " 0.044321895424836555,\n",
       " 0.03941993464052285,\n",
       " 0.03799019607843135,\n",
       " 0.04656862745098034,\n",
       " 0.05085784313725489,\n",
       " 0.07209967320261434,\n",
       " 0.065359477124183,\n",
       " 0.07230392156862747,\n",
       " 0.07802287581699341,\n",
       " 0.07741013071895425,\n",
       " 0.060866013071895375,\n",
       " 0.06413398692810457,\n",
       " 0.07046568627450978,\n",
       " 0.054125816993464027,\n",
       " 0.04983660130718953,\n",
       " 0.05167483660130712,\n",
       " 0.05330882352941174,\n",
       " 0.04350490196078427,\n",
       " 0.026348039215686292,\n",
       " 0.024101307189542454,\n",
       " 0.02961601307189543,\n",
       " 0.019607843137254888,\n",
       " 0.02961601307189543,\n",
       " 0.04575163398692811,\n",
       " 0.05923202614379086,\n",
       " 0.0667892156862745,\n",
       " 0.06229575163398693,\n",
       " 0.06311274509803921,\n",
       " 0.06290849673202609,\n",
       " 0.06658496732026142,\n",
       " 0.07434640522875818,\n",
       " 0.06944444444444442,\n",
       " 0.08088235294117646,\n",
       " 0.07700163398692805,\n",
       " 0.06842320261437906,\n",
       " 0.06781045751633985,\n",
       " 0.06290849673202609,\n",
       " 0.06924019607843135,\n",
       " 0.07557189542483661,\n",
       " 0.0778186274509804,\n",
       " 0.08088235294117646,\n",
       " 0.0884395424836601,\n",
       " 0.09395424836601307,\n",
       " 0.09599673202614378,\n",
       " 0.08660130718954251,\n",
       " 0.09027777777777773,\n",
       " 0.08517156862745096,\n",
       " 0.08374183006535946,\n",
       " 0.07945261437908496,\n",
       " 0.09109477124183002,\n",
       " 0.09129901960784309,\n",
       " 0.08803104575163395,\n",
       " 0.09681372549019607,\n",
       " 0.11417483660130717,\n",
       " 0.10498366013071897,\n",
       " 0.09987745098039214,\n",
       " 0.08537581699346403,\n",
       " 0.08047385620915032,\n",
       " 0.06862745098039214,\n",
       " 0.06576797385620914,\n",
       " 0.061478758169934644,\n",
       " 0.0716911764705882,\n",
       " 0.0702614379084967,\n",
       " 0.07475490196078427,\n",
       " 0.06821895424836599,\n",
       " 0.06924019607843135,\n",
       " 0.07066993464052285,\n",
       " 0.06801470588235292,\n",
       " 0.0667892156862745,\n",
       " 0.07414215686274506,\n",
       " 0.0716911764705882,\n",
       " 0.08639705882352938,\n",
       " 0.08312908496732024,\n",
       " 0.06311274509803921,\n",
       " 0.06290849673202609,\n",
       " 0.05167483660130712,\n",
       " 0.031862745098039214,\n",
       " 0.04003267973856206,\n",
       " 0.03860294117647056,\n",
       " 0.041053921568627416,\n",
       " 0.033905228758169925,\n",
       " 0.031249999999999944,\n",
       " 0.026348039215686292,\n",
       " 0.05861928104575159,\n",
       " 0.06311274509803921,\n",
       " 0.06209150326797386,\n",
       " 0.055351307189542454,\n",
       " 0.08455882352941174,\n",
       " 0.05514705882352938,\n",
       " 0.06045751633986923,\n",
       " 0.055759803921568596,\n",
       " 0.04391339869281047,\n",
       " 0.029207516339869233,\n",
       " 0.028186274509803877,\n",
       " 0.04718137254901961,\n",
       " 0.06045751633986923,\n",
       " 0.05861928104575159,\n",
       " 0.06168300653594766,\n",
       " 0.06699346405228751,\n",
       " 0.07087418300653592,\n",
       " 0.07557189542483661,\n",
       " 0.07700163398692805,\n",
       " 0.10375816993464049,\n",
       " 0.10314542483660127,\n",
       " 0.10334967320261434,\n",
       " 0.10089869281045749,\n",
       " 0.1043709150326797,\n",
       " 0.0980392156862745,\n",
       " 0.09722222222222221,\n",
       " 0.09783496732026142,\n",
       " 0.09579248366013071,\n",
       " 0.09109477124183002,\n",
       " 0.09313725490196079,\n",
       " 0.0855800653594771,\n",
       " 0.0951797385620915,\n",
       " 0.11172385620915032,\n",
       " 0.12275326797385616,\n",
       " 0.12806372549019607,\n",
       " 0.1313316993464052,\n",
       " 0.12479575163398693,\n",
       " 0.11090686274509798,\n",
       " 0.10743464052287577,\n",
       " 0.11621732026143788,\n",
       " 0.1168300653594771,\n",
       " 0.11764705882352938,\n",
       " 0.12888071895424835,\n",
       " 0.1284722222222222,\n",
       " 0.13337418300653592,\n",
       " 0.1423611111111111,\n",
       " 0.1409313725490196,\n",
       " 0.13970588235294118,\n",
       " 0.13827614379084963,\n",
       " 0.13541666666666663,\n",
       " 0.13010620915032678,\n",
       " 0.12254901960784315,\n",
       " 0.12479575163398693,\n",
       " 0.1384803921568627,\n",
       " 0.14011437908496732,\n",
       " 0.1388888888888889,\n",
       " 0.13541666666666663,\n",
       " 0.14011437908496732,\n",
       " 0.13807189542483655,\n",
       " 0.130718954248366,\n",
       " 0.130718954248366,\n",
       " 0.12867647058823528,\n",
       " 0.11846405228758167,\n",
       " 0.14644607843137253,\n",
       " 0.1480800653594771,\n",
       " 0.159109477124183,\n",
       " 0.15992647058823523,\n",
       " 0.1578839869281045,\n",
       " 0.16441993464052285,\n",
       " 0.178921568627451,\n",
       " 0.17933006535947704,\n",
       " 0.19260620915032678,\n",
       " 0.2081290849673203,\n",
       " 0.18974673202614378,\n",
       " 0.18055555555555558,\n",
       " 0.1823937908496731,\n",
       " 0.17708333333333326,\n",
       " 0.17810457516339862,\n",
       " 0.18055555555555558,\n",
       " 0.17810457516339862,\n",
       " 0.17851307189542487,\n",
       " 0.196078431372549,\n",
       " 0.18913398692810457,\n",
       " 0.1895424836601307,\n",
       " 0.19403594771241828,\n",
       " 0.19444444444444442,\n",
       " 0.20200163398692816,\n",
       " 0.19771241830065356,\n",
       " 0.19934640522875813,\n",
       " 0.19873366013071891,\n",
       " 0.19975490196078427,\n",
       " 0.21282679738562094,\n",
       " 0.21568627450980393,\n",
       " 0.2044526143790849,\n",
       " 0.21772875816993464,\n",
       " 0.21098856209150318,\n",
       " 0.21425653594771243,\n",
       " 0.1975081699346406,\n",
       " 0.1881127450980392,\n",
       " 0.17851307189542487,\n",
       " 0.17381535947712412,\n",
       " 0.16033496732026142,\n",
       " 0.16564542483660127,\n",
       " 0.1711601307189542,\n",
       " 0.17422385620915026,\n",
       " 0.1803513071895424,\n",
       " 0.1740196078431372,\n",
       " 0.16278594771241828,\n",
       " 0.1697303921568627,\n",
       " 0.17810457516339862,\n",
       " 0.1703431372549019,\n",
       " 0.16830065359477125,\n",
       " 0.17279411764705876,\n",
       " 0.1754493464052288,\n",
       " 0.18382352941176472,\n",
       " 0.19138071895424835,\n",
       " 0.18913398692810457,\n",
       " 0.1909722222222222,\n",
       " 0.17238562091503273,\n",
       " 0.16830065359477125,\n",
       " 0.16932189542483655,\n",
       " 0.1717728758169934,\n",
       " 0.16156045751633985,\n",
       " 0.14971405228758167,\n",
       " 0.15032679738562088,\n",
       " 0.1519607843137255,\n",
       " 0.1472630718954248,\n",
       " 0.14501633986928103,\n",
       " 0.14603758169934639,\n",
       " 0.12479575163398693,\n",
       " 0.13112745098039214,\n",
       " 0.11397058823529405,\n",
       " 0.11907679738562088,\n",
       " 0.12377450980392157,\n",
       " 0.13562091503267976,\n",
       " 0.12908496732026142,\n",
       " 0.1345996732026144,\n",
       " 0.12806372549019607,\n",
       " 0.13031045751633985,\n",
       " 0.12724673202614373,\n",
       " 0.13521241830065356,\n",
       " 0.1452205882352941,\n",
       " 0.15257352941176466,\n",
       " 0.14848856209150324,\n",
       " 0.14338235294117646,\n",
       " 0.14562908496732024,\n",
       " 0.1523692810457516,\n",
       " 0.15400326797385622,\n",
       " 0.14971405228758167,\n",
       " 0.16217320261437906,\n",
       " 0.16319444444444448,\n",
       " 0.16584967320261434]"
      ]
     },
     "execution_count": 34,
     "metadata": {},
     "output_type": "execute_result"
    }
   ],
   "source": [
    "temp_input"
   ]
  },
  {
   "cell_type": "code",
   "execution_count": 35,
   "id": "3fbfe3e4",
   "metadata": {},
   "outputs": [],
   "source": [
    "from numpy import array"
   ]
  },
  {
   "cell_type": "code",
   "execution_count": null,
   "id": "aae8535e",
   "metadata": {},
   "outputs": [],
   "source": []
  },
  {
   "cell_type": "code",
   "execution_count": 43,
   "id": "004b58ea",
   "metadata": {},
   "outputs": [],
   "source": [
    "day_new=np.arange(1,101)\n",
    "day_pred=np.arange(101,131)"
   ]
  },
  {
   "cell_type": "code",
   "execution_count": 44,
   "id": "1212e2e0",
   "metadata": {},
   "outputs": [
    {
     "data": {
      "text/plain": [
       "2035"
      ]
     },
     "execution_count": 44,
     "metadata": {},
     "output_type": "execute_result"
    }
   ],
   "source": [
    "len(df1)"
   ]
  },
  {
   "cell_type": "code",
   "execution_count": 45,
   "id": "b9216b0d",
   "metadata": {},
   "outputs": [
    {
     "data": {
      "text/plain": [
       "[<matplotlib.lines.Line2D at 0x1c8604373d0>]"
      ]
     },
     "execution_count": 45,
     "metadata": {},
     "output_type": "execute_result"
    },
    {
     "data": {
      "image/png": "[encoded data removed]",
      "text/plain": [
       "<Figure size 432x288 with 1 Axes>"
      ]
     },
     "metadata": {
      "needs_background": "light"
     },
     "output_type": "display_data"
    }
   ],
   "source": [
    "df3=df1.tolist()\n",
    "df3.extend(lst_output)\n",
    "plt.plot(df3[1200:])"
   ]
  },
  {
   "cell_type": "code",
   "execution_count": 46,
   "id": "ef7247ba",
   "metadata": {},
   "outputs": [],
   "source": [
    "df3=scaler.inverse_transform(df3).tolist()"
   ]
  },
  {
   "cell_type": "code",
   "execution_count": 47,
   "id": "5a2b2136",
   "metadata": {},
   "outputs": [
    {
     "data": {
      "text/plain": [
       "[<matplotlib.lines.Line2D at 0x1c860516a60>]"
      ]
     },
     "execution_count": 47,
     "metadata": {},
     "output_type": "execute_result"
    },
    {
     "data": {
      "image/png": "[encoded data removed]",
      "text/plain": [
       "<Figure size 432x288 with 1 Axes>"
      ]
     },
     "metadata": {
      "needs_background": "light"
     },
     "output_type": "display_data"
    }
   ],
   "source": [
    "plt.plot(df3)"
   ]
  },
  {
   "cell_type": "code",
   "execution_count": null,
   "id": "d490d40c",
   "metadata": {},
   "outputs": [],
   "source": []
  }
 ],
 "metadata": {
  "kernelspec": {
   "display_name": "Python 3",
   "language": "python",
   "name": "python3"
  },
  "language_info": {
   "codemirror_mode": {
    "name": "ipython",
    "version": 3
   },
   "file_extension": ".py",
   "mimetype": "text/x-python",
   "name": "python",
   "nbconvert_exporter": "python",
   "pygments_lexer": "ipython3",
   "version": "3.8.8"
  }
 },
 "nbformat": 4,
 "nbformat_minor": 5
}
